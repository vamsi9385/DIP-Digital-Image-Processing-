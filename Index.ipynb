import cv2
import time
import numpy as np
import matplotlib.pyplot as plt
img_input=input()
img=cv2.imread(img_input)
if img is not None:
    print("printing original image")
    time.sleep(3)
    img_rgb=cv2.cvtColor(img, cv2.COLOR_BGR2RGB)

    plt.imshow(img_rgb)
    plt.axis('off')
    plt.title("Original Image")
    plt.show()

    print("Converting to Grayscale.............")
    time.sleep(5)

    img_gray=cv2.cvtColor(img_rgb, cv2.COLOR_RGB2GRAY)

    plt.imshow(img_gray,cmap='gray')
    plt.axis('off')
    plt.title("Gray Scale Image")
    plt.show()

    print("Converting to SobelEdge.............")
    time.sleep(5)

    img_convert = cv2.imread(img_input, cv2.IMREAD_GRAYSCALE)
    img_float=np.float32(img_convert)
    sobelx = cv2.filter2D(img_float, -1, np.array([[-1, 0, 1], [-2, 0, 2], [-1, 0, 1]]))
    sobely = cv2.filter2D(img_float, -1, np.array([[-1, -2, -1], [0, 0, 0], [1, 2, 1]]))

    magnitude = np.sqrt(sobelx**2 + sobely**2)

    threshold = 100
    edges = np.uint8(magnitude > threshold) * 255

    plt.imshow(edges,cmap='gray')
    plt.title('sobel Edge Detection')
    plt.axis('off')
    plt.show()
else:
    print("Please Enter Correct Path")
